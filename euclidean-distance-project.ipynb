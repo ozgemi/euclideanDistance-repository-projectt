{
  "metadata": {
    "kernelspec": {
      "name": "python",
      "display_name": "Python (Pyodide)",
      "language": "python"
    },
    "language_info": {
      "codemirror_mode": {
        "name": "python",
        "version": 3
      },
      "file_extension": ".py",
      "mimetype": "text/x-python",
      "name": "python",
      "nbconvert_exporter": "python",
      "pygments_lexer": "ipython3",
      "version": "3.8"
    }
  },
  "nbformat_minor": 4,
  "nbformat": 4,
  "cells": [
    {
      "cell_type": "code",
      "source": "import math\n\n\ndef euclideanDistance(point1, point2):\n    return math.sqrt((point1[0] - point2[0])**2 + (point1[1] - point2[1])**2)\n\n\ndef main():\n    \n    points = [(1, 2), (2, 6), (4, 2), (9, 1)]\n\n    \n    distances = []\n\n    \n    for i in range(len(points)):\n        for j in range(i + 1, len(points)):\n            distance = euclideanDistance(points[i], points[j])\n            distances.append(distance)\n\n    \n    min_distance = min(distances)\n\n    \n    print(f\"Points: {points}\")\n    print(f\"Distances: {distances}\")\n    print(f\"Minimum Distance: {min_distance}\")\n\n\nif __name__ == \"__main__\":\n    main()\n",
      "metadata": {
        "trusted": true
      },
      "outputs": [
        {
          "name": "stdout",
          "text": "Points: [(1, 2), (2, 6), (4, 2), (9, 1)]\nDistances: [4.123105625617661, 3.0, 8.06225774829855, 4.47213595499958, 8.602325267042627, 5.0990195135927845]\nMinimum Distance: 3.0\n",
          "output_type": "stream"
        }
      ],
      "execution_count": 14
    }
  ]
}